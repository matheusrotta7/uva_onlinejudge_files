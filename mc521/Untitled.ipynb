{
 "cells": [
  {
   "cell_type": "code",
   "execution_count": 11,
   "metadata": {},
   "outputs": [
    {
     "name": "stdout",
     "output_type": "stream",
     "text": [
      "10000\n",
      "475187273\n"
     ]
    }
   ],
   "source": [
    "\n",
    "\n",
    "n = input();\n",
    "\n",
    "sum = 0;\n",
    "\n",
    "for i in range(0, n):\n",
    "    sum = sum + 20 * (3**(3*n -3) - (20**i)*(i!=0));\n",
    "\n",
    "print sum%(10**9 + 7);\n"
   ]
  }
 ],
 "metadata": {
  "kernelspec": {
   "display_name": "Python 2",
   "language": "python",
   "name": "python2"
  },
  "language_info": {
   "codemirror_mode": {
    "name": "ipython",
    "version": 2
   },
   "file_extension": ".py",
   "mimetype": "text/x-python",
   "name": "python",
   "nbconvert_exporter": "python",
   "pygments_lexer": "ipython2",
   "version": "2.7.15"
  }
 },
 "nbformat": 4,
 "nbformat_minor": 2
}
